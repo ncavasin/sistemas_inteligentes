{
  "nbformat": 4,
  "nbformat_minor": 0,
  "metadata": {
    "colab": {
      "name": "perceptron-cavasin_143501.ipynb",
      "provenance": [],
      "collapsed_sections": [],
      "include_colab_link": true
    },
    "kernelspec": {
      "name": "python3",
      "display_name": "Python 3"
    },
    "language_info": {
      "name": "python"
    }
  },
  "cells": [
    {
      "cell_type": "markdown",
      "metadata": {
        "id": "view-in-github",
        "colab_type": "text"
      },
      "source": [
        "<a href=\"https://colab.research.google.com/github/ncavasin/perceptron/blob/main/perceptron_cavasin_143501.ipynb\" target=\"_parent\"><img src=\"https://colab.research.google.com/assets/colab-badge.svg\" alt=\"Open In Colab\"/></a>"
      ]
    },
    {
      "cell_type": "markdown",
      "metadata": {
        "id": "TG0GbYV5Fm8A"
      },
      "source": [
        "## 11089 - Sistemas Inteligentes - Universidad Nacional de Luján - 2021\n",
        "# Perceptron\n",
        "Crear y entrenar un perceptrón capaz de clasificar las entradas recibidas en base a una función linealmente separable:\n",
        "- El perceptrón debe recibir tres entradas binarias.\n",
        "- Los pesos finales y el valor de la función umbral no pueden definirse a priori sino que serán determinados por el entrenamiento y los ejemplos en él utilizados.\n",
        "- La clasificación final sobre el conjunto de datos de entrada debe representarse gráficamente, en la forma de un plano que discrimine los valores de entrada en base a la función representada por el perceptrón.\n",
        "- Explicar brevemente cada uno de los criterios adoptados durantes las etapas de codificación, entrenamiento y evaluación.\n",
        "- El rango de cada coordenada debe ser [0, 1.5].\n",
        "\n",
        "**Fecha de entrega: 08/05/2021**"
      ]
    },
    {
      "cell_type": "markdown",
      "metadata": {
        "id": "LdDlgtkk_vFX"
      },
      "source": [
        "## Resolución\n",
        "\n",
        "### Paso 1 - Inicialización:\n",
        "- Se definen los valores booleanos de las 3 entradas .\n",
        "- Se define por cada combinación de entrada el valor de salida de la función lógica AND correspondiente.\n",
        "- Se los combina en una matriz para facilitar su presentación."
      ]
    },
    {
      "cell_type": "code",
      "metadata": {
        "colab": {
          "base_uri": "https://localhost:8080/",
          "height": 300
        },
        "id": "Rzoa-U2p1Yp_",
        "outputId": "5562bb6c-f2bb-4271-f380-d9a22dab4531"
      },
      "source": [
        "import numpy as np\n",
        "import pandas as pd\n",
        "\n",
        "# Hardcodeo los valores de las tres entradas, pues no van a variar\n",
        "x1 = pd.Series((0, 0, 0, 0, 1, 1, 1, 1), name='x1')\n",
        "x2 = pd.Series((0, 0, 1, 1, 0, 0, 1, 1), name='x2')\n",
        "x3 = pd.Series((0, 1, 0, 1, 0, 1, 0, 1), name='x3')\n",
        "\n",
        "# Defino contador para luego mostrar en matriz\n",
        "iter = 0\n",
        "\n",
        "# Los combino en una matriz\n",
        "matriz = pd.concat([x1, x2, x3], axis=1)\n",
        "\n",
        "# Defino la funcion de salida, en este caso la funcion logica AND\n",
        "y = pd.Series((0, 0, 0, 0, 0, 0, 0, 1), name='y')\n",
        "\n",
        "# La inserto a la tabla\n",
        "matriz = pd.concat([matriz, y], axis=1)\n",
        "\n",
        "# Muestro la tabla\n",
        "matriz"
      ],
      "execution_count": 2,
      "outputs": [
        {
          "output_type": "execute_result",
          "data": {
            "text/html": [
              "<div>\n",
              "<style scoped>\n",
              "    .dataframe tbody tr th:only-of-type {\n",
              "        vertical-align: middle;\n",
              "    }\n",
              "\n",
              "    .dataframe tbody tr th {\n",
              "        vertical-align: top;\n",
              "    }\n",
              "\n",
              "    .dataframe thead th {\n",
              "        text-align: right;\n",
              "    }\n",
              "</style>\n",
              "<table border=\"1\" class=\"dataframe\">\n",
              "  <thead>\n",
              "    <tr style=\"text-align: right;\">\n",
              "      <th></th>\n",
              "      <th>x1</th>\n",
              "      <th>x2</th>\n",
              "      <th>x3</th>\n",
              "      <th>y</th>\n",
              "    </tr>\n",
              "  </thead>\n",
              "  <tbody>\n",
              "    <tr>\n",
              "      <th>0</th>\n",
              "      <td>0</td>\n",
              "      <td>0</td>\n",
              "      <td>0</td>\n",
              "      <td>0</td>\n",
              "    </tr>\n",
              "    <tr>\n",
              "      <th>1</th>\n",
              "      <td>0</td>\n",
              "      <td>0</td>\n",
              "      <td>1</td>\n",
              "      <td>0</td>\n",
              "    </tr>\n",
              "    <tr>\n",
              "      <th>2</th>\n",
              "      <td>0</td>\n",
              "      <td>1</td>\n",
              "      <td>0</td>\n",
              "      <td>0</td>\n",
              "    </tr>\n",
              "    <tr>\n",
              "      <th>3</th>\n",
              "      <td>0</td>\n",
              "      <td>1</td>\n",
              "      <td>1</td>\n",
              "      <td>0</td>\n",
              "    </tr>\n",
              "    <tr>\n",
              "      <th>4</th>\n",
              "      <td>1</td>\n",
              "      <td>0</td>\n",
              "      <td>0</td>\n",
              "      <td>0</td>\n",
              "    </tr>\n",
              "    <tr>\n",
              "      <th>5</th>\n",
              "      <td>1</td>\n",
              "      <td>0</td>\n",
              "      <td>1</td>\n",
              "      <td>0</td>\n",
              "    </tr>\n",
              "    <tr>\n",
              "      <th>6</th>\n",
              "      <td>1</td>\n",
              "      <td>1</td>\n",
              "      <td>0</td>\n",
              "      <td>0</td>\n",
              "    </tr>\n",
              "    <tr>\n",
              "      <th>7</th>\n",
              "      <td>1</td>\n",
              "      <td>1</td>\n",
              "      <td>1</td>\n",
              "      <td>1</td>\n",
              "    </tr>\n",
              "  </tbody>\n",
              "</table>\n",
              "</div>"
            ],
            "text/plain": [
              "   x1  x2  x3  y\n",
              "0   0   0   0  0\n",
              "1   0   0   1  0\n",
              "2   0   1   0  0\n",
              "3   0   1   1  0\n",
              "4   1   0   0  0\n",
              "5   1   0   1  0\n",
              "6   1   1   0  0\n",
              "7   1   1   1  1"
            ]
          },
          "metadata": {
            "tags": []
          },
          "execution_count": 2
        }
      ]
    },
    {
      "cell_type": "markdown",
      "metadata": {
        "id": "nHg-hytMaPHH"
      },
      "source": [
        "### Paso 2 - Funciones\n",
        "Se definen las funciones auxiliares ``train()``, ``adjust()`` y ``sep_function()``  para construir el Perceptrón.\n",
        "\n",
        "\n",
        "\n",
        "___\n",
        "\n",
        "\n",
        "``sep_function()``:\n",
        "\n",
        "Esta función es aplicada a cada Z obtenido para acotar la salida al rango de valores binarios $[0, 1]$."
      ]
    },
    {
      "cell_type": "code",
      "metadata": {
        "id": "qXBfiYivcpPI"
      },
      "source": [
        "def sep_function(z):\n",
        "    \"\"\"\n",
        "    Esta funcion representa la separacion lineal de cada salida obtenida.\n",
        "    Si z >= 0.5 ==> z = 1\n",
        "    Si z <  0.5 ==> z = 0\n",
        "    \"\"\"\n",
        "\n",
        "    if z >= 0.5:\n",
        "        return 1\n",
        "    else:\n",
        "        return 0"
      ],
      "execution_count": 3,
      "outputs": []
    },
    {
      "cell_type": "markdown",
      "metadata": {
        "id": "1lCyCY634xnr"
      },
      "source": [
        "___\n",
        "\n",
        "``adjust()``:\n",
        "\n",
        "Cada vez que el valor Z sea diferente al valor Y -correspondiente a la salida correcta para dicha combinación de entradas- se aplica esta función cuyo objetivo es calcular el error de estimación para poder ajustar $b$ (el threshold) y $w_i$ (los pesos asignados)."
      ]
    },
    {
      "cell_type": "code",
      "metadata": {
        "id": "t2WGoVfxNGMO"
      },
      "source": [
        "def adjust(z, y, t, p, lr):\n",
        "    \n",
        "    # Calculo error\n",
        "    error = y - z\n",
        "\n",
        "    # Ajusto threhsold\n",
        "    t = t + (-1 *(lr * error))\n",
        "\n",
        "    # Ajusto pesos\n",
        "    p['x1'] += (p['x1'] * lr * error)\n",
        "    p['x2'] += (p['x2'] * lr * error)\n",
        "    p['x3'] += (p['x3'] * lr * error)\n",
        "\n",
        "    return t, p"
      ],
      "execution_count": 4,
      "outputs": []
    },
    {
      "cell_type": "markdown",
      "metadata": {
        "id": "uOnGrTj84xUC"
      },
      "source": [
        "___\n",
        "\n",
        "``train()``:\n",
        "\n",
        "Se alimenta de las entradas definidas en la matriz y para cada combinacion de ellas calcula un valor de Z al que posteriormente aplica la función de separación para redondear su valor.\n",
        "\n",
        "La fórmula utilizada es para obtener Z es $Z=(\\sum_{i=1}^n x_i*w_i) + b$, siendo: \n",
        "\n",
        "- $n$ la cantidad de entradas en la matriz.\n",
        "- $x_i$ el valor de la entrada procesada.\n",
        "- $w_i$ el peso asginado una entrada.\n",
        "- $b$ el threshold."
      ]
    },
    {
      "cell_type": "code",
      "metadata": {
        "id": "LNsrq-1OZoxe"
      },
      "source": [
        "def train(mat, p, t, lr, e):\n",
        "\n",
        "    errores = True\n",
        "\n",
        "    while errores and e < 100:\n",
        "        errores = False\n",
        "\n",
        "        # Creo lista para almacenar valores calculados\n",
        "        z2 = []\n",
        "\n",
        "        for i in range(0, matriz.shape[0]):\n",
        "\n",
        "            # Calculo z\n",
        "            z = ((mat['x1'][i] * p['x1']) + (mat['x2'][i] * p['x2']) + (mat['x3'][i] * p['x3'])) - t\n",
        "\n",
        "            # Aplico la funcion de separacion\n",
        "            z = sep_function(z)\n",
        "\n",
        "            # Verifico si hubo error\n",
        "            if z != mat['y'][i]:\n",
        "                errores = True\n",
        "\n",
        "                # Ajusto\n",
        "                t, p = adjust(z, mat['y'][i], t, p, lr)\n",
        "                \n",
        "                # Incremento contador de iteraciones\n",
        "                e += 1     \n",
        "            \n",
        "            # Agrego el valor calculado a la lista\n",
        "            z2.append(z)\n",
        "    if epochs == 100:\n",
        "        exit(-1)\n",
        "    else:\n",
        "        return t, p, e, z2"
      ],
      "execution_count": 5,
      "outputs": []
    },
    {
      "cell_type": "markdown",
      "metadata": {
        "id": "wan01iL31xQ3"
      },
      "source": [
        "### Paso 3 - Ejecucion\n",
        "\n",
        "- Se inicializan los pesos de manera aleatoria\n",
        "- Se define un $b$ ``threshold`` = 0.5\n",
        "- Se define la velocidad de aprendizaje ``learning_rate`` = 0.2\n",
        "- Se inicializa en 0 el acumulador ``epochs`` que indicará cuantas veces se ajustaron los pesos.\n",
        "\n",
        "\n",
        "**Nota:** el límite superior de ajustes de peso permitido es *100* para evitar demoras de procesamiento. Cuando sea alcanzado, se retornaran todos los valores actuales aunque tengan errores de clasificación y esto se podrá ver reflejado en la matriz de resultados."
      ]
    },
    {
      "cell_type": "code",
      "metadata": {
        "id": "zPwBT2q-D_t5",
        "colab": {
          "base_uri": "https://localhost:8080/",
          "height": 665
        },
        "outputId": "74f658bb-c1a8-401d-f2e3-41c5acd21220"
      },
      "source": [
        "import random \n",
        "\n",
        "# Defino los valores iniciales del threshold, learn rate y epochs\n",
        "threshold = 0.5\n",
        "learn_rate = 0.2\n",
        "epochs = 0\n",
        "\n",
        "# Inicializo pesos al azar\n",
        "pesos = {}\n",
        "pesos['x1'] = np.float(round(random.uniform(0, 1.5), 2))\n",
        "pesos['x2'] = np.float(round(random.uniform(0, 1.5), 2))\n",
        "pesos['x3'] = np.float(round(random.uniform(0, 1.5), 2))\n",
        "\n",
        "\n",
        "print('PARAMETROS INICIALES:')\n",
        "print(f'Epochs = {epochs}')\n",
        "print(f'Threshold = {threshold:.2f}')\n",
        "print(f\"Vel aprendizaje = {learn_rate}\")\n",
        "for index, value in enumerate(pesos):\n",
        "    print(f'Peso {index} = {pesos[value]:.4f}')\n",
        "\n",
        "\n",
        "print('\\n<=== INI PERIODO DE ENTRENAMIENTO ===>')\n",
        "# Entreno\n",
        "threshold, pesos, epochs, z = train(matriz, pesos, threshold, learn_rate, epochs)\n",
        "\n",
        "# Formateo para mostrar\n",
        "z = pd.Series(np.asarray(z), name=f'z{iter}')\n",
        "matriz = pd.concat([matriz, z], axis= 1)\n",
        "\n",
        "# Aumento el contador de veces ejecutadas del algoritmo\n",
        "iter += 1\n",
        "print('<=== FIN PERIODO DE ENTRENAMIENTO ===>')\n",
        "\n",
        "\n",
        "print('\\nPARAMETROS FINALES:')\n",
        "print(f'Epochs = {epochs}')\n",
        "print(f'Threshold = {threshold:.2f}')\n",
        "print(f\"Vel aprendizaje = {learn_rate}\")\n",
        "for index, value in enumerate(pesos):\n",
        "    print(f'Peso {index} = {pesos[value]:.4f}')\n",
        "\n",
        "print('\\n\\nMatriz original con los Z calculados:')\n",
        "matriz"
      ],
      "execution_count": 9,
      "outputs": [
        {
          "output_type": "stream",
          "text": [
            "PARAMETROS INICIALES:\n",
            "Epochs = 0\n",
            "Threshold = 0.50\n",
            "Vel aprendizaje = 0.2\n",
            "Peso 0 = 1.1000\n",
            "Peso 1 = 0.3400\n",
            "Peso 2 = 1.4800\n",
            "\n",
            "<=== INI PERIODO DE ENTRENAMIENTO ===>\n",
            "<=== FIN PERIODO DE ENTRENAMIENTO ===>\n",
            "\n",
            "PARAMETROS FINALES:\n",
            "Epochs = 12\n",
            "Threshold = 0.90\n",
            "Vel aprendizaje = 0.2\n",
            "Peso 0 = 0.5740\n",
            "Peso 1 = 0.1774\n",
            "Peso 2 = 0.7723\n",
            "\n",
            "\n",
            "Matriz original con los Z calculados:\n"
          ],
          "name": "stdout"
        },
        {
          "output_type": "execute_result",
          "data": {
            "text/html": [
              "<div>\n",
              "<style scoped>\n",
              "    .dataframe tbody tr th:only-of-type {\n",
              "        vertical-align: middle;\n",
              "    }\n",
              "\n",
              "    .dataframe tbody tr th {\n",
              "        vertical-align: top;\n",
              "    }\n",
              "\n",
              "    .dataframe thead th {\n",
              "        text-align: right;\n",
              "    }\n",
              "</style>\n",
              "<table border=\"1\" class=\"dataframe\">\n",
              "  <thead>\n",
              "    <tr style=\"text-align: right;\">\n",
              "      <th></th>\n",
              "      <th>x1</th>\n",
              "      <th>x2</th>\n",
              "      <th>x3</th>\n",
              "      <th>y</th>\n",
              "      <th>z0</th>\n",
              "      <th>z1</th>\n",
              "      <th>z2</th>\n",
              "      <th>z3</th>\n",
              "    </tr>\n",
              "  </thead>\n",
              "  <tbody>\n",
              "    <tr>\n",
              "      <th>0</th>\n",
              "      <td>0</td>\n",
              "      <td>0</td>\n",
              "      <td>0</td>\n",
              "      <td>0</td>\n",
              "      <td>0</td>\n",
              "      <td>0</td>\n",
              "      <td>0</td>\n",
              "      <td>0</td>\n",
              "    </tr>\n",
              "    <tr>\n",
              "      <th>1</th>\n",
              "      <td>0</td>\n",
              "      <td>0</td>\n",
              "      <td>1</td>\n",
              "      <td>0</td>\n",
              "      <td>0</td>\n",
              "      <td>0</td>\n",
              "      <td>0</td>\n",
              "      <td>0</td>\n",
              "    </tr>\n",
              "    <tr>\n",
              "      <th>2</th>\n",
              "      <td>0</td>\n",
              "      <td>1</td>\n",
              "      <td>0</td>\n",
              "      <td>0</td>\n",
              "      <td>0</td>\n",
              "      <td>0</td>\n",
              "      <td>0</td>\n",
              "      <td>0</td>\n",
              "    </tr>\n",
              "    <tr>\n",
              "      <th>3</th>\n",
              "      <td>0</td>\n",
              "      <td>1</td>\n",
              "      <td>1</td>\n",
              "      <td>0</td>\n",
              "      <td>0</td>\n",
              "      <td>0</td>\n",
              "      <td>0</td>\n",
              "      <td>0</td>\n",
              "    </tr>\n",
              "    <tr>\n",
              "      <th>4</th>\n",
              "      <td>1</td>\n",
              "      <td>0</td>\n",
              "      <td>0</td>\n",
              "      <td>0</td>\n",
              "      <td>0</td>\n",
              "      <td>0</td>\n",
              "      <td>0</td>\n",
              "      <td>0</td>\n",
              "    </tr>\n",
              "    <tr>\n",
              "      <th>5</th>\n",
              "      <td>1</td>\n",
              "      <td>0</td>\n",
              "      <td>1</td>\n",
              "      <td>0</td>\n",
              "      <td>0</td>\n",
              "      <td>0</td>\n",
              "      <td>0</td>\n",
              "      <td>0</td>\n",
              "    </tr>\n",
              "    <tr>\n",
              "      <th>6</th>\n",
              "      <td>1</td>\n",
              "      <td>1</td>\n",
              "      <td>0</td>\n",
              "      <td>0</td>\n",
              "      <td>0</td>\n",
              "      <td>0</td>\n",
              "      <td>0</td>\n",
              "      <td>0</td>\n",
              "    </tr>\n",
              "    <tr>\n",
              "      <th>7</th>\n",
              "      <td>1</td>\n",
              "      <td>1</td>\n",
              "      <td>1</td>\n",
              "      <td>1</td>\n",
              "      <td>1</td>\n",
              "      <td>1</td>\n",
              "      <td>1</td>\n",
              "      <td>1</td>\n",
              "    </tr>\n",
              "  </tbody>\n",
              "</table>\n",
              "</div>"
            ],
            "text/plain": [
              "   x1  x2  x3  y  z0  z1  z2  z3\n",
              "0   0   0   0  0   0   0   0   0\n",
              "1   0   0   1  0   0   0   0   0\n",
              "2   0   1   0  0   0   0   0   0\n",
              "3   0   1   1  0   0   0   0   0\n",
              "4   1   0   0  0   0   0   0   0\n",
              "5   1   0   1  0   0   0   0   0\n",
              "6   1   1   0  0   0   0   0   0\n",
              "7   1   1   1  1   1   1   1   1"
            ]
          },
          "metadata": {
            "tags": []
          },
          "execution_count": 9
        }
      ]
    },
    {
      "cell_type": "markdown",
      "metadata": {
        "id": "Oa7odnnP1_6z"
      },
      "source": [
        "### Paso 4 - Representacion grafica\n",
        "\n",
        "Como resultado del entrenamiento del perceptron se grafica en R3 el plano Z obtenido en base a los valores calculados junto con los puntos de entrada.\n",
        "\n",
        "Recordar que en R3 la ecuación general de una recta es $0 = aX + bY + cZ + d$. La equivalencia, utilizando la nomenclatura del código, es la siguiente:\n",
        "- $a$ = $peso_1$\n",
        "- $b$ = $peso_2$\n",
        "- $c$ = $peso_3$\n",
        "- $d$ = ``threshold``\n",
        "\n",
        "Despejando, se obtiene $Z = \\frac{aX + bY + D}{c}$. \n",
        "\n",
        "En nuestra nomenclatura quedaría:\n",
        "$Z = \\frac{peso_1 * X + peso_2 * Y + threshold}{peso_3}$"
      ]
    },
    {
      "cell_type": "code",
      "metadata": {
        "id": "tjvxvqvGiGo4",
        "colab": {
          "base_uri": "https://localhost:8080/",
          "height": 817
        },
        "outputId": "660c7f20-7c67-457d-bda7-4861051ee5e9"
      },
      "source": [
        "import plotly.graph_objects as go\n",
        "\n",
        "xx = np.linspace(-1,1,10)\n",
        "yy = np.linspace(-1,1,10)\n",
        "X,Y = np.meshgrid(xx,yy)\n",
        "\n",
        "Z = (pesos['x1'] * X + pesos['x2'] * Y + threshold) / pesos['x3']\n",
        "\n",
        "fig = go.Figure(data=[go.Surface(x=X, y=Y,z=Z, colorscale=['cyan', 'cyan', 'cyan']),   \n",
        "                      go.Scatter3d(x=matriz['x1'], y=matriz['x2'], z=matriz['x3'],\n",
        "                                   mode='markers', marker=dict(size=4, color='green'))\n",
        "                      ]\n",
        "                )\n",
        "\n",
        "fig.update_layout(width=800, height=800)\n",
        "fig.show()\n"
      ],
      "execution_count": null,
      "outputs": [
        {
          "output_type": "display_data",
          "data": {
            "text/html": [
              "<html>\n",
              "<head><meta charset=\"utf-8\" /></head>\n",
              "<body>\n",
              "    <div>\n",
              "            <script src=\"https://cdnjs.cloudflare.com/ajax/libs/mathjax/2.7.5/MathJax.js?config=TeX-AMS-MML_SVG\"></script><script type=\"text/javascript\">if (window.MathJax) {MathJax.Hub.Config({SVG: {font: \"STIX-Web\"}});}</script>\n",
              "                <script type=\"text/javascript\">window.PlotlyConfig = {MathJaxConfig: 'local'};</script>\n",
              "        <script src=\"https://cdn.plot.ly/plotly-latest.min.js\"></script>    \n",
              "            <div id=\"88d765a0-6af9-4088-b385-8fbbfca0fcb1\" class=\"plotly-graph-div\" style=\"height:800px; width:800px;\"></div>\n",
              "            <script type=\"text/javascript\">\n",
              "                \n",
              "                    window.PLOTLYENV=window.PLOTLYENV || {};\n",
              "                    \n",
              "                if (document.getElementById(\"88d765a0-6af9-4088-b385-8fbbfca0fcb1\")) {\n",
              "                    Plotly.newPlot(\n",
              "                        '88d765a0-6af9-4088-b385-8fbbfca0fcb1',\n",
              "                        [{\"colorscale\": [[0.0, \"cyan\"], [0.5, \"cyan\"], [1.0, \"cyan\"]], \"type\": \"surface\", \"x\": [[-1.0, -0.7777777777777778, -0.5555555555555556, -0.33333333333333337, -0.11111111111111116, 0.11111111111111116, 0.33333333333333326, 0.5555555555555554, 0.7777777777777777, 1.0], [-1.0, -0.7777777777777778, -0.5555555555555556, -0.33333333333333337, -0.11111111111111116, 0.11111111111111116, 0.33333333333333326, 0.5555555555555554, 0.7777777777777777, 1.0], [-1.0, -0.7777777777777778, -0.5555555555555556, -0.33333333333333337, -0.11111111111111116, 0.11111111111111116, 0.33333333333333326, 0.5555555555555554, 0.7777777777777777, 1.0], [-1.0, -0.7777777777777778, -0.5555555555555556, -0.33333333333333337, -0.11111111111111116, 0.11111111111111116, 0.33333333333333326, 0.5555555555555554, 0.7777777777777777, 1.0], [-1.0, -0.7777777777777778, -0.5555555555555556, -0.33333333333333337, -0.11111111111111116, 0.11111111111111116, 0.33333333333333326, 0.5555555555555554, 0.7777777777777777, 1.0], [-1.0, -0.7777777777777778, -0.5555555555555556, -0.33333333333333337, -0.11111111111111116, 0.11111111111111116, 0.33333333333333326, 0.5555555555555554, 0.7777777777777777, 1.0], [-1.0, -0.7777777777777778, -0.5555555555555556, -0.33333333333333337, -0.11111111111111116, 0.11111111111111116, 0.33333333333333326, 0.5555555555555554, 0.7777777777777777, 1.0], [-1.0, -0.7777777777777778, -0.5555555555555556, -0.33333333333333337, -0.11111111111111116, 0.11111111111111116, 0.33333333333333326, 0.5555555555555554, 0.7777777777777777, 1.0], [-1.0, -0.7777777777777778, -0.5555555555555556, -0.33333333333333337, -0.11111111111111116, 0.11111111111111116, 0.33333333333333326, 0.5555555555555554, 0.7777777777777777, 1.0], [-1.0, -0.7777777777777778, -0.5555555555555556, -0.33333333333333337, -0.11111111111111116, 0.11111111111111116, 0.33333333333333326, 0.5555555555555554, 0.7777777777777777, 1.0]], \"y\": [[-1.0, -1.0, -1.0, -1.0, -1.0, -1.0, -1.0, -1.0, -1.0, -1.0], [-0.7777777777777778, -0.7777777777777778, -0.7777777777777778, -0.7777777777777778, -0.7777777777777778, -0.7777777777777778, -0.7777777777777778, -0.7777777777777778, -0.7777777777777778, -0.7777777777777778], [-0.5555555555555556, -0.5555555555555556, -0.5555555555555556, -0.5555555555555556, -0.5555555555555556, -0.5555555555555556, -0.5555555555555556, -0.5555555555555556, -0.5555555555555556, -0.5555555555555556], [-0.33333333333333337, -0.33333333333333337, -0.33333333333333337, -0.33333333333333337, -0.33333333333333337, -0.33333333333333337, -0.33333333333333337, -0.33333333333333337, -0.33333333333333337, -0.33333333333333337], [-0.11111111111111116, -0.11111111111111116, -0.11111111111111116, -0.11111111111111116, -0.11111111111111116, -0.11111111111111116, -0.11111111111111116, -0.11111111111111116, -0.11111111111111116, -0.11111111111111116], [0.11111111111111116, 0.11111111111111116, 0.11111111111111116, 0.11111111111111116, 0.11111111111111116, 0.11111111111111116, 0.11111111111111116, 0.11111111111111116, 0.11111111111111116, 0.11111111111111116], [0.33333333333333326, 0.33333333333333326, 0.33333333333333326, 0.33333333333333326, 0.33333333333333326, 0.33333333333333326, 0.33333333333333326, 0.33333333333333326, 0.33333333333333326, 0.33333333333333326], [0.5555555555555554, 0.5555555555555554, 0.5555555555555554, 0.5555555555555554, 0.5555555555555554, 0.5555555555555554, 0.5555555555555554, 0.5555555555555554, 0.5555555555555554, 0.5555555555555554], [0.7777777777777777, 0.7777777777777777, 0.7777777777777777, 0.7777777777777777, 0.7777777777777777, 0.7777777777777777, 0.7777777777777777, 0.7777777777777777, 0.7777777777777777, 0.7777777777777777], [1.0, 1.0, 1.0, 1.0, 1.0, 1.0, 1.0, 1.0, 1.0, 1.0]], \"z\": [[-0.580130340213847, -0.43453647048204624, -0.28894260075024547, -0.14334873101844472, 0.002245138713356106, 0.14783900844515693, 0.2934328781769577, 0.43902674790875834, 0.5846206176405593, 0.7302144873723602], [-0.5341533287195941, -0.3885594589877934, -0.2429655892559926, -0.09737171952419184, 0.04822215020760896, 0.19381601993940983, 0.33940988967121055, 0.4850037594030112, 0.6305976291348121, 0.7761914988666131], [-0.4881763172253414, -0.34258244749354055, -0.1969885777617397, -0.05139470802993894, 0.09419916170186182, 0.2397930314336627, 0.3853869011654634, 0.5309807708972641, 0.676574640629065, 0.8221685103608658], [-0.4421993057310885, -0.29660543599928774, -0.15101156626748688, -0.005417696535686083, 0.1401761731961147, 0.2857700429279156, 0.43136391265971624, 0.576957782391517, 0.722551652123318, 0.8681455218551187], [-0.3962222942368356, -0.2506284245050348, -0.10503455477323399, 0.040559314958566774, 0.18615318469036757, 0.33174705442216845, 0.4773409241539691, 0.6229347938857698, 0.7685286636175707, 0.9141225333493715], [-0.3502452827425827, -0.20465141301078194, -0.05905754327898109, 0.08653632645281967, 0.23213019618462044, 0.37772406591642127, 0.523317935648222, 0.6689118053800227, 0.8145056751118237, 0.9600995448436245], [-0.3042682712483299, -0.15867440151652912, -0.013080531784728271, 0.1325133379470725, 0.2781072076788733, 0.4237010774106742, 0.5692949471424749, 0.7148888168742755, 0.8604826866060764, 1.0060765563378773], [-0.25829125975407696, -0.11269739002227622, 0.032896479709524626, 0.17849034944132539, 0.32408421917312613, 0.46967808890492707, 0.6152719586367278, 0.7608658283685285, 0.9064596981003293, 1.05205356783213], [-0.21231424825982415, -0.06672037852802336, 0.07887349120377748, 0.22446736093557826, 0.37006123066737906, 0.5156551003991798, 0.6612489701309806, 0.8068428398627814, 0.9524367095945823, 1.098030579326383], [-0.16633723676557127, -0.02074336703377046, 0.12485050269803039, 0.27044437242983116, 0.41603824216163193, 0.5616321118934328, 0.7072259816252334, 0.8528198513570342, 0.9984137210888352, 1.144007590820636]]}, {\"marker\": {\"color\": \"green\", \"size\": 4}, \"mode\": \"markers\", \"type\": \"scatter3d\", \"x\": [0, 0, 0, 0, 1, 1, 1, 1], \"y\": [0, 0, 1, 1, 0, 0, 1, 1], \"z\": [0, 1, 0, 1, 0, 1, 0, 1]}],\n",
              "                        {\"height\": 800, \"template\": {\"data\": {\"bar\": [{\"error_x\": {\"color\": \"#2a3f5f\"}, \"error_y\": {\"color\": \"#2a3f5f\"}, \"marker\": {\"line\": {\"color\": \"#E5ECF6\", \"width\": 0.5}}, \"type\": \"bar\"}], \"barpolar\": [{\"marker\": {\"line\": {\"color\": \"#E5ECF6\", \"width\": 0.5}}, \"type\": \"barpolar\"}], \"carpet\": [{\"aaxis\": {\"endlinecolor\": \"#2a3f5f\", \"gridcolor\": \"white\", \"linecolor\": \"white\", \"minorgridcolor\": \"white\", \"startlinecolor\": \"#2a3f5f\"}, \"baxis\": {\"endlinecolor\": \"#2a3f5f\", \"gridcolor\": \"white\", \"linecolor\": \"white\", \"minorgridcolor\": \"white\", \"startlinecolor\": \"#2a3f5f\"}, \"type\": \"carpet\"}], \"choropleth\": [{\"colorbar\": {\"outlinewidth\": 0, \"ticks\": \"\"}, \"type\": \"choropleth\"}], \"contour\": [{\"colorbar\": {\"outlinewidth\": 0, \"ticks\": \"\"}, \"colorscale\": [[0.0, \"#0d0887\"], [0.1111111111111111, \"#46039f\"], [0.2222222222222222, \"#7201a8\"], [0.3333333333333333, \"#9c179e\"], [0.4444444444444444, \"#bd3786\"], [0.5555555555555556, \"#d8576b\"], [0.6666666666666666, \"#ed7953\"], [0.7777777777777778, \"#fb9f3a\"], [0.8888888888888888, \"#fdca26\"], [1.0, \"#f0f921\"]], \"type\": \"contour\"}], \"contourcarpet\": [{\"colorbar\": {\"outlinewidth\": 0, \"ticks\": \"\"}, \"type\": \"contourcarpet\"}], \"heatmap\": [{\"colorbar\": {\"outlinewidth\": 0, \"ticks\": \"\"}, \"colorscale\": [[0.0, \"#0d0887\"], [0.1111111111111111, \"#46039f\"], [0.2222222222222222, \"#7201a8\"], [0.3333333333333333, \"#9c179e\"], [0.4444444444444444, \"#bd3786\"], [0.5555555555555556, \"#d8576b\"], [0.6666666666666666, \"#ed7953\"], [0.7777777777777778, \"#fb9f3a\"], [0.8888888888888888, \"#fdca26\"], [1.0, \"#f0f921\"]], \"type\": \"heatmap\"}], \"heatmapgl\": [{\"colorbar\": {\"outlinewidth\": 0, \"ticks\": \"\"}, \"colorscale\": [[0.0, \"#0d0887\"], [0.1111111111111111, \"#46039f\"], [0.2222222222222222, \"#7201a8\"], [0.3333333333333333, \"#9c179e\"], [0.4444444444444444, \"#bd3786\"], [0.5555555555555556, \"#d8576b\"], [0.6666666666666666, \"#ed7953\"], [0.7777777777777778, \"#fb9f3a\"], [0.8888888888888888, \"#fdca26\"], [1.0, \"#f0f921\"]], \"type\": \"heatmapgl\"}], \"histogram\": [{\"marker\": {\"colorbar\": {\"outlinewidth\": 0, \"ticks\": \"\"}}, \"type\": \"histogram\"}], \"histogram2d\": [{\"colorbar\": {\"outlinewidth\": 0, \"ticks\": \"\"}, \"colorscale\": [[0.0, \"#0d0887\"], [0.1111111111111111, \"#46039f\"], [0.2222222222222222, \"#7201a8\"], [0.3333333333333333, \"#9c179e\"], [0.4444444444444444, \"#bd3786\"], [0.5555555555555556, \"#d8576b\"], [0.6666666666666666, \"#ed7953\"], [0.7777777777777778, \"#fb9f3a\"], [0.8888888888888888, \"#fdca26\"], [1.0, \"#f0f921\"]], \"type\": \"histogram2d\"}], \"histogram2dcontour\": [{\"colorbar\": {\"outlinewidth\": 0, \"ticks\": \"\"}, \"colorscale\": [[0.0, \"#0d0887\"], [0.1111111111111111, \"#46039f\"], [0.2222222222222222, \"#7201a8\"], [0.3333333333333333, \"#9c179e\"], [0.4444444444444444, \"#bd3786\"], [0.5555555555555556, \"#d8576b\"], [0.6666666666666666, \"#ed7953\"], [0.7777777777777778, \"#fb9f3a\"], [0.8888888888888888, \"#fdca26\"], [1.0, \"#f0f921\"]], \"type\": \"histogram2dcontour\"}], \"mesh3d\": [{\"colorbar\": {\"outlinewidth\": 0, \"ticks\": \"\"}, \"type\": \"mesh3d\"}], \"parcoords\": [{\"line\": {\"colorbar\": {\"outlinewidth\": 0, \"ticks\": \"\"}}, \"type\": \"parcoords\"}], \"pie\": [{\"automargin\": true, \"type\": \"pie\"}], \"scatter\": [{\"marker\": {\"colorbar\": {\"outlinewidth\": 0, \"ticks\": \"\"}}, \"type\": \"scatter\"}], \"scatter3d\": [{\"line\": {\"colorbar\": {\"outlinewidth\": 0, \"ticks\": \"\"}}, \"marker\": {\"colorbar\": {\"outlinewidth\": 0, \"ticks\": \"\"}}, \"type\": \"scatter3d\"}], \"scattercarpet\": [{\"marker\": {\"colorbar\": {\"outlinewidth\": 0, \"ticks\": \"\"}}, \"type\": \"scattercarpet\"}], \"scattergeo\": [{\"marker\": {\"colorbar\": {\"outlinewidth\": 0, \"ticks\": \"\"}}, \"type\": \"scattergeo\"}], \"scattergl\": [{\"marker\": {\"colorbar\": {\"outlinewidth\": 0, \"ticks\": \"\"}}, \"type\": \"scattergl\"}], \"scattermapbox\": [{\"marker\": {\"colorbar\": {\"outlinewidth\": 0, \"ticks\": \"\"}}, \"type\": \"scattermapbox\"}], \"scatterpolar\": [{\"marker\": {\"colorbar\": {\"outlinewidth\": 0, \"ticks\": \"\"}}, \"type\": \"scatterpolar\"}], \"scatterpolargl\": [{\"marker\": {\"colorbar\": {\"outlinewidth\": 0, \"ticks\": \"\"}}, \"type\": \"scatterpolargl\"}], \"scatterternary\": [{\"marker\": {\"colorbar\": {\"outlinewidth\": 0, \"ticks\": \"\"}}, \"type\": \"scatterternary\"}], \"surface\": [{\"colorbar\": {\"outlinewidth\": 0, \"ticks\": \"\"}, \"colorscale\": [[0.0, \"#0d0887\"], [0.1111111111111111, \"#46039f\"], [0.2222222222222222, \"#7201a8\"], [0.3333333333333333, \"#9c179e\"], [0.4444444444444444, \"#bd3786\"], [0.5555555555555556, \"#d8576b\"], [0.6666666666666666, \"#ed7953\"], [0.7777777777777778, \"#fb9f3a\"], [0.8888888888888888, \"#fdca26\"], [1.0, \"#f0f921\"]], \"type\": \"surface\"}], \"table\": [{\"cells\": {\"fill\": {\"color\": \"#EBF0F8\"}, \"line\": {\"color\": \"white\"}}, \"header\": {\"fill\": {\"color\": \"#C8D4E3\"}, \"line\": {\"color\": \"white\"}}, \"type\": \"table\"}]}, \"layout\": {\"annotationdefaults\": {\"arrowcolor\": \"#2a3f5f\", \"arrowhead\": 0, \"arrowwidth\": 1}, \"coloraxis\": {\"colorbar\": {\"outlinewidth\": 0, \"ticks\": \"\"}}, \"colorscale\": {\"diverging\": [[0, \"#8e0152\"], [0.1, \"#c51b7d\"], [0.2, \"#de77ae\"], [0.3, \"#f1b6da\"], [0.4, \"#fde0ef\"], [0.5, \"#f7f7f7\"], [0.6, \"#e6f5d0\"], [0.7, \"#b8e186\"], [0.8, \"#7fbc41\"], [0.9, \"#4d9221\"], [1, \"#276419\"]], \"sequential\": [[0.0, \"#0d0887\"], [0.1111111111111111, \"#46039f\"], [0.2222222222222222, \"#7201a8\"], [0.3333333333333333, \"#9c179e\"], [0.4444444444444444, \"#bd3786\"], [0.5555555555555556, \"#d8576b\"], [0.6666666666666666, \"#ed7953\"], [0.7777777777777778, \"#fb9f3a\"], [0.8888888888888888, \"#fdca26\"], [1.0, \"#f0f921\"]], \"sequentialminus\": [[0.0, \"#0d0887\"], [0.1111111111111111, \"#46039f\"], [0.2222222222222222, \"#7201a8\"], [0.3333333333333333, \"#9c179e\"], [0.4444444444444444, \"#bd3786\"], [0.5555555555555556, \"#d8576b\"], [0.6666666666666666, \"#ed7953\"], [0.7777777777777778, \"#fb9f3a\"], [0.8888888888888888, \"#fdca26\"], [1.0, \"#f0f921\"]]}, \"colorway\": [\"#636efa\", \"#EF553B\", \"#00cc96\", \"#ab63fa\", \"#FFA15A\", \"#19d3f3\", \"#FF6692\", \"#B6E880\", \"#FF97FF\", \"#FECB52\"], \"font\": {\"color\": \"#2a3f5f\"}, \"geo\": {\"bgcolor\": \"white\", \"lakecolor\": \"white\", \"landcolor\": \"#E5ECF6\", \"showlakes\": true, \"showland\": true, \"subunitcolor\": \"white\"}, \"hoverlabel\": {\"align\": \"left\"}, \"hovermode\": \"closest\", \"mapbox\": {\"style\": \"light\"}, \"paper_bgcolor\": \"white\", \"plot_bgcolor\": \"#E5ECF6\", \"polar\": {\"angularaxis\": {\"gridcolor\": \"white\", \"linecolor\": \"white\", \"ticks\": \"\"}, \"bgcolor\": \"#E5ECF6\", \"radialaxis\": {\"gridcolor\": \"white\", \"linecolor\": \"white\", \"ticks\": \"\"}}, \"scene\": {\"xaxis\": {\"backgroundcolor\": \"#E5ECF6\", \"gridcolor\": \"white\", \"gridwidth\": 2, \"linecolor\": \"white\", \"showbackground\": true, \"ticks\": \"\", \"zerolinecolor\": \"white\"}, \"yaxis\": {\"backgroundcolor\": \"#E5ECF6\", \"gridcolor\": \"white\", \"gridwidth\": 2, \"linecolor\": \"white\", \"showbackground\": true, \"ticks\": \"\", \"zerolinecolor\": \"white\"}, \"zaxis\": {\"backgroundcolor\": \"#E5ECF6\", \"gridcolor\": \"white\", \"gridwidth\": 2, \"linecolor\": \"white\", \"showbackground\": true, \"ticks\": \"\", \"zerolinecolor\": \"white\"}}, \"shapedefaults\": {\"line\": {\"color\": \"#2a3f5f\"}}, \"ternary\": {\"aaxis\": {\"gridcolor\": \"white\", \"linecolor\": \"white\", \"ticks\": \"\"}, \"baxis\": {\"gridcolor\": \"white\", \"linecolor\": \"white\", \"ticks\": \"\"}, \"bgcolor\": \"#E5ECF6\", \"caxis\": {\"gridcolor\": \"white\", \"linecolor\": \"white\", \"ticks\": \"\"}}, \"title\": {\"x\": 0.05}, \"xaxis\": {\"automargin\": true, \"gridcolor\": \"white\", \"linecolor\": \"white\", \"ticks\": \"\", \"title\": {\"standoff\": 15}, \"zerolinecolor\": \"white\", \"zerolinewidth\": 2}, \"yaxis\": {\"automargin\": true, \"gridcolor\": \"white\", \"linecolor\": \"white\", \"ticks\": \"\", \"title\": {\"standoff\": 15}, \"zerolinecolor\": \"white\", \"zerolinewidth\": 2}}}, \"width\": 800},\n",
              "                        {\"responsive\": true}\n",
              "                    ).then(function(){\n",
              "                            \n",
              "var gd = document.getElementById('88d765a0-6af9-4088-b385-8fbbfca0fcb1');\n",
              "var x = new MutationObserver(function (mutations, observer) {{\n",
              "        var display = window.getComputedStyle(gd).display;\n",
              "        if (!display || display === 'none') {{\n",
              "            console.log([gd, 'removed!']);\n",
              "            Plotly.purge(gd);\n",
              "            observer.disconnect();\n",
              "        }}\n",
              "}});\n",
              "\n",
              "// Listen for the removal of the full notebook cells\n",
              "var notebookContainer = gd.closest('#notebook-container');\n",
              "if (notebookContainer) {{\n",
              "    x.observe(notebookContainer, {childList: true});\n",
              "}}\n",
              "\n",
              "// Listen for the clearing of the current output cell\n",
              "var outputEl = gd.closest('.output');\n",
              "if (outputEl) {{\n",
              "    x.observe(outputEl, {childList: true});\n",
              "}}\n",
              "\n",
              "                        })\n",
              "                };\n",
              "                \n",
              "            </script>\n",
              "        </div>\n",
              "</body>\n",
              "</html>"
            ]
          },
          "metadata": {
            "tags": []
          }
        }
      ]
    }
  ]
}